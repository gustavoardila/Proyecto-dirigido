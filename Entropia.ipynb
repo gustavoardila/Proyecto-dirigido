{
 "cells": [
  {
   "cell_type": "code",
   "execution_count": 1,
   "metadata": {},
   "outputs": [],
   "source": [
    "import numpy as np\n",
    "import matplotlib.pyplot as plt"
   ]
  },
  {
   "cell_type": "code",
   "execution_count": 2,
   "metadata": {},
   "outputs": [],
   "source": [
    "def gl(l, lambdaa, gamma):\n",
    "    phi = np.linspace(0.00001, 2*np.pi, 1000)\n",
    "    f1 = np.cos(phi) - lambdaa - complex(0,1)*gamma*np.sin(phi)\n",
    "    f2 = (1.0/(2.0*np.pi))*np.exp(-complex(0,1)*l*phi)*np.sign(f1)#(f1/np.abs(f1))\n",
    "    return np.trapz(f2, x=phi)\n",
    "\n",
    "def PImatrix(l, lambdaa, gamma):\n",
    "    return np.array([[0,gl(l, lambdaa, gamma)],[-gl(-l, lambdaa, gamma),0]])\n",
    "\n",
    "def GAMMA(lambdaa, gamma, N):\n",
    "    matrix = []\n",
    "    for i in range(N):\n",
    "        row = []\n",
    "        for j in range(N):\n",
    "            row.append(PImatrix(j-i, lambdaa, gamma))\n",
    "        matrix.append(row)\n",
    "\n",
    "    return np.block(matrix)"
   ]
  },
  {
   "cell_type": "code",
   "execution_count": 10,
   "metadata": {},
   "outputs": [
    {
     "name": "stdout",
     "output_type": "stream",
     "text": [
      "[-1.         -0.99799482  1.          0.99799482]\n"
     ]
    }
   ],
   "source": [
    "lambdaa, gamma, N = 1, 0.5, 15\n",
    "GAMMA_matrix = GAMMA(lambdaa, gamma, N)\n",
    "L = 2\n",
    "nu_matrix = complex(0,1)*GAMMA_matrix[:2*L, :2*L]\n",
    "nu_matrix_abs = np.abs(nu_matrix) # np.imag\n",
    "eigenvalues, eigenvectors = np.linalg.eig(nu_matrix_abs)\n",
    "\n",
    "print(eigenvalues)"
   ]
  },
  {
   "cell_type": "code",
   "execution_count": 11,
   "metadata": {},
   "outputs": [],
   "source": [
    "def positive_eigenvalues(eigenvalues):\n",
    "    positive = []\n",
    "    for eigen in eigenvalues:\n",
    "        if eigen >=0:\n",
    "            positive.append(eigen)\n",
    "    return np.array(positive)\n",
    "\n",
    "pos_eigen = positive_eigenvalues(eigenvalues)"
   ]
  },
  {
   "cell_type": "code",
   "execution_count": 12,
   "metadata": {},
   "outputs": [
    {
     "name": "stdout",
     "output_type": "stream",
     "text": [
      "0.001002088194928219\n"
     ]
    }
   ],
   "source": [
    "def shannon(posit):\n",
    "    fact = (1.0 + posit)/2.0\n",
    "    s_i = -fact*np.log(fact)\n",
    "    return np.sum(s_i)\n",
    "\n",
    "print(shannon(pos_eigen))"
   ]
  },
  {
   "cell_type": "code",
   "execution_count": 13,
   "metadata": {},
   "outputs": [],
   "source": [
    "def S_L(L, lambdaa, gamma, N):\n",
    "    GAMMA_matrix = GAMMA(lambdaa, gamma, N)\n",
    "    nu_matrix = complex(0,1)*GAMMA_matrix[:2*L, :2*L]\n",
    "    nu_matrix_abs = np.abs(nu_matrix) # np.imag\n",
    "    eigenvalues, eigenvectors = np.linalg.eig(nu_matrix_abs)\n",
    "    pos_eigen = positive_eigenvalues(eigenvalues)\n",
    "    return np.abs(shannon(pos_eigen))"
   ]
  },
  {
   "cell_type": "code",
   "execution_count": 16,
   "metadata": {},
   "outputs": [
    {
     "name": "stdout",
     "output_type": "stream",
     "text": [
      "[0.0005011698090653406, 0.001002088194928219, 0.0015027552836342942, 0.002003171201107959, 0.0025033360731527357, 0.003003250025448804, 0.0035029131835623943, 0.004002325672931202, 0.0045014876188804506, 0.005000399146609635, 0.0054990603811978095, 0.005997471447616764, 0.006495632470700563, 0.006993543575176579, 0.007491204885647255, 0.007988616526602599, 0.008485778622402716, 0.008982691297302534, 0.009479354675429746]\n"
     ]
    }
   ],
   "source": [
    "Ls = np.arange(1,0)\n",
    "\n",
    "lambdaa, gamma, N = 1.0, 0.5, 100\n",
    "\n",
    "S_Ls = []\n",
    "\n",
    "for L in Ls:\n",
    "    S_Ls.append(S_L(L, lambdaa, gamma, N))\n",
    "\n",
    "print(S_Ls)"
   ]
  },
  {
   "cell_type": "code",
   "execution_count": 18,
   "metadata": {},
   "outputs": [
    {
     "data": {
      "text/plain": [
       "[<matplotlib.lines.Line2D at 0x7fea35a9d390>]"
      ]
     },
     "execution_count": 18,
     "metadata": {},
     "output_type": "execute_result"
    },
    {
     "data": {
      "image/png": "[encoded data removed]",
      "text/plain": [
       "<Figure size 432x288 with 1 Axes>"
      ]
     },
     "metadata": {
      "needs_background": "light"
     },
     "output_type": "display_data"
    }
   ],
   "source": [
    "plt.plot(Ls, S_Ls, \"o\")\n"
   ]
  },
  {
   "cell_type": "code",
   "execution_count": null,
   "metadata": {},
   "outputs": [],
   "source": []
  }
 ],
 "metadata": {
  "kernelspec": {
   "display_name": "Python 3",
   "language": "python",
   "name": "python3"
  },
  "language_info": {
   "codemirror_mode": {
    "name": "ipython",
    "version": 3
   },
   "file_extension": ".py",
   "mimetype": "text/x-python",
   "name": "python",
   "nbconvert_exporter": "python",
   "pygments_lexer": "ipython3",
   "version": "3.7.6"
  },
  "vscode": {
   "interpreter": {
    "hash": "ad2bdc8ecc057115af97d19610ffacc2b4e99fae6737bb82f5d7fb13d2f2c186"
   }
  }
 },
 "nbformat": 4,
 "nbformat_minor": 2
}
